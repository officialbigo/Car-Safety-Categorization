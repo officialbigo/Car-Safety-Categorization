{
  "nbformat": 4,
  "nbformat_minor": 0,
  "metadata": {
    "colab": {
      "provenance": []
    },
    "kernelspec": {
      "name": "python3",
      "display_name": "Python 3"
    },
    "language_info": {
      "name": "python"
    }
  },
  "cells": [
    {
      "cell_type": "code",
      "execution_count": null,
      "metadata": {
        "colab": {
          "base_uri": "https://localhost:8080/"
        },
        "id": "6tl1c0IO91jh",
        "outputId": "a412700e-7a20-42e7-e3c5-a267931181c6"
      },
      "outputs": [
        {
          "output_type": "stream",
          "name": "stdout",
          "text": [
            "Mounted at /content/drive\n"
          ]
        }
      ],
      "source": [
        "from google.colab import drive\n",
        "drive.mount(\"/content/drive\")"
      ]
    },
    {
      "cell_type": "code",
      "source": [
        "import pandas as pd\n",
        "import numpy as np\n",
        "import sklearn\n",
        "import matplotlib.pyplot as plt\n",
        "from sklearn.model_selection import train_test_split\n",
        "from sklearn.neighbors import KNeighborsClassifier\n",
        "from sklearn import preprocessing\n"
      ],
      "metadata": {
        "id": "nJyWSMup-bkv"
      },
      "execution_count": null,
      "outputs": []
    },
    {
      "cell_type": "code",
      "source": [
        "file_path = \"/content/drive/MyDrive/data science/datasets/car.data\"\n",
        "columns=np.array([\"buying\",\"maint\",\"doors\",\"persons\",\"lug_boot\",\"safety\",\"accepted\"])\n",
        "ds = pd.read_csv(file_path, delimiter=',',names=columns)\n"
      ],
      "metadata": {
        "id": "kuOn-brV-5ds"
      },
      "execution_count": null,
      "outputs": []
    },
    {
      "cell_type": "code",
      "source": [
        "le=preprocessing.LabelEncoder()\n",
        "buying=le.fit_transform(list(ds[\"buying\"]))\n",
        "maint=le.fit_transform(list(ds[\"maint\"]))\n",
        "doors=le.fit_transform(list(ds[\"doors\"]))\n",
        "persons=le.fit_transform(list(ds[\"persons\"]))\n",
        "lug_boot=le.fit_transform(list(ds[\"lug_boot\"]))\n",
        "safety=le.fit_transform(list(ds[\"safety\"]))\n",
        "accepted=le.fit_transform(list(ds[\"accepted\"]))"
      ],
      "metadata": {
        "id": "nXHtN9j8O3v1"
      },
      "execution_count": null,
      "outputs": []
    },
    {
      "cell_type": "code",
      "source": [
        "predict=\"accepted\"\n",
        "x=list(zip(buying,maint,doors,persons,lug_boot,safety))\n",
        "y=list(accepted)\n"
      ],
      "metadata": {
        "id": "2Kcg8wddEMzh"
      },
      "execution_count": null,
      "outputs": []
    },
    {
      "cell_type": "code",
      "source": [
        "x_train,x_test,y_train,y_test=train_test_split(x,y,test_size=0.1)\n"
      ],
      "metadata": {
        "id": "62nv9Sx3Mxtg"
      },
      "execution_count": null,
      "outputs": []
    },
    {
      "cell_type": "code",
      "source": [
        "knn=KNeighborsClassifier(n_neighbors=9)\n",
        "knn.fit(x_train,y_train)\n",
        "accuracy=knn.score(x_test,y_test)\n",
        "accuracy"
      ],
      "metadata": {
        "colab": {
          "base_uri": "https://localhost:8080/"
        },
        "id": "f1WSAe5SMLqc",
        "outputId": "8a87c483-50ac-411b-ba43-9bdb0fd7bf48"
      },
      "execution_count": null,
      "outputs": [
        {
          "output_type": "execute_result",
          "data": {
            "text/plain": [
              "0.953757225433526"
            ]
          },
          "metadata": {},
          "execution_count": 54
        }
      ]
    }
  ]
}